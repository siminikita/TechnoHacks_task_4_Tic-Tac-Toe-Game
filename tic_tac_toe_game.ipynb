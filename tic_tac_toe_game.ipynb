{
  "nbformat": 4,
  "nbformat_minor": 0,
  "metadata": {
    "colab": {
      "provenance": []
    },
    "kernelspec": {
      "name": "python3",
      "display_name": "Python 3"
    },
    "language_info": {
      "name": "python"
    }
  },
  "cells": [
    {
      "cell_type": "code",
      "execution_count": null,
      "metadata": {
        "id": "DdFLqQMQoFc3"
      },
      "outputs": [],
      "source": []
    },
    {
      "cell_type": "markdown",
      "source": [
        "# Tic Tac Toe Game"
      ],
      "metadata": {
        "id": "P48z3-VKohqZ"
      }
    },
    {
      "cell_type": "markdown",
      "source": [],
      "metadata": {
        "id": "azO2dsh1oaj2"
      }
    },
    {
      "cell_type": "code",
      "source": [
        "import os\n",
        "import time\n",
        "\n",
        "board = [' ', ' ', ' ', ' ', ' ', ' ', ' ', ' ', ' ', ' ']\n",
        "player = 1\n",
        "\n",
        "# Win Flags\n",
        "Win = 1\n",
        "Draw = -1\n",
        "Running = 0\n",
        "Stop = 1\n",
        "\n",
        "Game = Running\n",
        "Mark = 'X'\n",
        "\n",
        "\n",
        "def DrawBoard():\n",
        "    print(\" %c | %c | %c \" % (board[1], board[2], board[3]))\n",
        "    print(\"___|___|___\")\n",
        "    print(\" %c | %c | %c \" % (board[4], board[5], board[6]))\n",
        "    print(\"___|___|___\")\n",
        "    print(\" %c | %c | %c \" % (board[7], board[8], board[9]))\n",
        "    print(\" | | \")\n",
        "\n",
        "\n",
        "def CheckPosition(x):\n",
        "    if board[x] == ' ':\n",
        "        return True\n",
        "    else:\n",
        "        return False\n",
        "\n",
        "\n",
        "def CheckWin():\n",
        "    global Game\n",
        "\n",
        "    if board[1] == board[2] and board[2] == board[3] and board[1] != ' ':\n",
        "        Game = Win\n",
        "    elif board[4] == board[5] and board[5] == board[6] and board[4] != ' ':\n",
        "        Game = Win\n",
        "    elif board[7] == board[8] and board[8] == board[9] and board[7] != ' ':\n",
        "        Game = Win\n",
        "    elif board[1] == board[4] and board[4] == board[7] and board[1] != ' ':\n",
        "        Game = Win\n",
        "    elif board[2] == board[5] and board[5] == board[8] and board[2] != ' ':\n",
        "        Game = Win\n",
        "    elif board[3] == board[6] and board[6] == board[9] and board[3] != ' ':\n",
        "        Game = Win\n",
        "    elif board[1] == board[5] and board[5] == board[9] and board[5] != ' ':\n",
        "        Game = Win\n",
        "    elif board[3] == board[5] and board[5] == board[7] and board[5] != ' ':\n",
        "        Game = Win\n",
        "    elif board[1] != ' ' and board[2] != ' ' and board[3] != ' ' and \\\n",
        "            board[4] != ' ' and board[5] != ' ' and board[6] != ' ' and \\\n",
        "            board[7] != ' ' and board[8] != ' ' and board[9] != ' ':\n",
        "        Game = Draw\n",
        "    else:\n",
        "        Game = Running\n",
        "\n",
        "\n",
        "print(\"Tic-Tac-Toe Game Designed By Sourabh Somani\")\n",
        "print(\"Player 1 [X] --- Player 2 [O]\\n\")\n",
        "print()\n",
        "print()\n",
        "print(\"Please Wait...\")\n",
        "time.sleep(3)\n",
        "\n",
        "while Game == Running:\n",
        "    os.system('cls')\n",
        "    DrawBoard()\n",
        "\n",
        "    if player % 2 != 0:\n",
        "        print(\"Player 1's chance\")\n",
        "        Mark = 'X'\n",
        "    else:\n",
        "        print(\"Player 2's chance\")\n",
        "        Mark = 'O'\n",
        "\n",
        "    choice = int(input(\"Enter the position between [1-9] where you want to mark: \"))\n",
        "    if CheckPosition(choice):\n",
        "        board[choice] = Mark\n",
        "        player += 1\n",
        "        CheckWin()\n",
        "\n",
        "    os.system('cls')\n",
        "    DrawBoard()\n",
        "\n",
        "    if Game == Draw:\n",
        "        print(\"Game Draw\")\n",
        "    elif Game == Win:\n",
        "        player -= 1\n",
        "        if player % 2 != 0:\n",
        "            print(\"Player 1 Won\")\n",
        "        else:\n",
        "            print(\"Player 2 Won\")"
      ],
      "metadata": {
        "colab": {
          "base_uri": "https://localhost:8080/"
        },
        "id": "foOhzlbyoS-K",
        "outputId": "c559d307-2f4c-4c25-d0ca-28f7f74d1df9"
      },
      "execution_count": null,
      "outputs": [
        {
          "output_type": "stream",
          "name": "stdout",
          "text": [
            "Tic-Tac-Toe Game Designed By Sourabh Somani\n",
            "Player 1 [X] --- Player 2 [O]\n",
            "\n",
            "\n",
            "\n",
            "Please Wait...\n",
            "   |   |   \n",
            "___|___|___\n",
            "   |   |   \n",
            "___|___|___\n",
            "   |   |   \n",
            " | | \n",
            "Player 1's chance\n",
            "Enter the position between [1-9] where you want to mark: 2\n",
            "   | X |   \n",
            "___|___|___\n",
            "   |   |   \n",
            "___|___|___\n",
            "   |   |   \n",
            " | | \n",
            "   | X |   \n",
            "___|___|___\n",
            "   |   |   \n",
            "___|___|___\n",
            "   |   |   \n",
            " | | \n",
            "Player 2's chance\n"
          ]
        }
      ]
    },
    {
      "cell_type": "markdown",
      "source": [],
      "metadata": {
        "id": "zZmd5OiZoRaV"
      }
    }
  ]
}